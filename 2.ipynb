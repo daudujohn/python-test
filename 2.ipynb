{
 "cells": [
  {
   "cell_type": "markdown",
   "metadata": {},
   "source": [
    "#### Rolling Dice with Plotly\n",
    "In this section, we’ll use the Python package Plotly to produce interactive \n",
    "visualizations. Plotly is particularly useful when you’re creating visualizations that will be displayed in a browser, because the visualizations will scale \n",
    "automatically to fit the viewer’s screen. Visualizations that Plotly generates \n",
    "are also interactive; when the user hovers over certain elements on the \n",
    "screen, information about that element is highlighted.\n",
    "\n",
    "In this project, we’ll analyze the results of rolling dice. When you roll \n",
    "one regular, six-sided die, you have an equal chance of rolling any of the \n",
    "numbers from 1 through 6. However, when you use two dice, you’re more \n",
    "likely to roll certain numbers rather than others. We’ll try to determine which numbers are most likely to occur by generating a data set that represents rolling dice. Then we’ll plot the results of a large number of rolls to \n",
    "determine which results are more likely than others.\n",
    "The study of rolling dice is often used in mathematics to explain various types of data analysis. But it also has real-world applications in casinos \n",
    "and other gambling scenarios, as well as in the way games like Monopoly and \n",
    "many role-playing games are played."
   ]
  },
  {
   "cell_type": "code",
   "execution_count": null,
   "metadata": {},
   "outputs": [],
   "source": [
    "from random import randint\n",
    "\n",
    "class Die:\n",
    "    '''A class representing a single die'''\n",
    "\n",
    "    def __init__(self, num_sides = 6):\n",
    "        self.num_sides = num_sides\n",
    "\n",
    "    def roll(self):\n",
    "        '''Return a random value between 1 and number of sides'''\n",
    "        return randint(1, self.num_sides)"
   ]
  },
  {
   "cell_type": "markdown",
   "metadata": {},
   "source": [
    "Before creating a visualization based on the Die class, let’s roll a D6, print the results, and check that the results look reasonable"
   ]
  },
  {
   "cell_type": "code",
   "execution_count": 1,
   "metadata": {},
   "outputs": [
    {
     "name": "stdout",
     "output_type": "stream",
     "text": [
      "[6, 4, 6, 4, 4, 3, 4, 3, 2, 5, 4, 6, 5, 4, 1, 4, 1, 3, 1, 1, 5, 3, 3, 5, 6, 1, 3, 1, 1, 3, 6, 6, 3, 3, 3, 5, 6, 1, 3, 5, 4, 5, 2, 3, 4, 6, 6, 2, 5, 2, 6, 1, 4, 2, 4, 4, 2, 2, 5, 6, 1, 5, 3, 4, 2, 5, 1, 2, 5, 4, 1, 1, 6, 6, 5, 2, 3, 4, 2, 5, 6, 2, 1, 3, 6, 5, 1, 1, 6, 1, 3, 6, 4, 5, 3, 2, 2, 3, 4, 4]\n"
     ]
    }
   ],
   "source": [
    "from random import randint\n",
    "\n",
    "class Die:\n",
    "    '''A class representing a single die'''\n",
    "\n",
    "    def __init__(self, num_sides = 6):\n",
    "        self.num_sides = num_sides\n",
    "\n",
    "    def roll(self):\n",
    "        '''Return a random value between 1 and number of sides'''\n",
    "        return randint(1, self.num_sides)\n",
    "\n",
    "# Create a D6\n",
    "die = Die()\n",
    "\n",
    "# Make some rolls, and store the results in a list\n",
    "results = []\n",
    "for roll_num in range(100):\n",
    "    results.append(die.roll())\n",
    "\n",
    "print(results)"
   ]
  },
  {
   "cell_type": "markdown",
   "metadata": {},
   "source": [
    "We’ll analyze the results of rolling one D6 by counting how many times we roll each number"
   ]
  },
  {
   "cell_type": "code",
   "execution_count": 4,
   "metadata": {},
   "outputs": [
    {
     "name": "stdout",
     "output_type": "stream",
     "text": [
      "[182, 174, 173, 161, 152, 158]\n"
     ]
    }
   ],
   "source": [
    "from random import randint\n",
    "\n",
    "class Die:\n",
    "    '''A class representing a single die'''\n",
    "\n",
    "    def __init__(self, num_sides = 6):\n",
    "        self.num_sides = num_sides\n",
    "\n",
    "    def roll(self):\n",
    "        '''Return a random value between 1 and number of sides'''\n",
    "        return randint(1, self.num_sides)\n",
    "\n",
    "# Create a D6\n",
    "die = Die()\n",
    "\n",
    "# Make some rolls, and store the results in a list\n",
    "results = []\n",
    "for roll_num in range(1000):\n",
    "    results.append(die.roll())\n",
    "\n",
    "# Analyse the results\n",
    "frequencies = []\n",
    "for value in range(1, die.num_sides + 1):\n",
    "    frequencies.append(results.count(value))\n",
    "\n",
    "print(frequencies)"
   ]
  },
  {
   "cell_type": "markdown",
   "metadata": {},
   "source": [
    "#### Making a Histogram\n",
    "With a list of frequencies, we can make a histogram of the results. A histogram is a bar chart showing how often certain results occur. Here’s the code to create the histogram: "
   ]
  },
  {
   "cell_type": "code",
   "execution_count": 5,
   "metadata": {},
   "outputs": [
    {
     "data": {
      "text/plain": [
       "'d.html'"
      ]
     },
     "execution_count": 5,
     "metadata": {},
     "output_type": "execute_result"
    }
   ],
   "source": [
    "from plotly.graph_objs import Bar, Layout\n",
    "from plotly import offline\n",
    "\n",
    "from random import randint\n",
    "\n",
    "class Die:\n",
    "    '''A class representing a single die'''\n",
    "\n",
    "    def __init__(self, num_sides = 6):\n",
    "        self.num_sides = num_sides\n",
    "\n",
    "    def roll(self):\n",
    "        '''Return a random value between 1 and number of sides'''\n",
    "        return randint(1, self.num_sides)\n",
    "\n",
    "# Create a D6\n",
    "die = Die()\n",
    "\n",
    "# Make some rolls, and store the results in a list\n",
    "results = []\n",
    "for roll_num in range(1000):\n",
    "    results.append(die.roll())\n",
    "\n",
    "# Analyse the results\n",
    "frequencies = []\n",
    "for value in range(1, die.num_sides + 1):\n",
    "    frequencies.append(results.count(value))\n",
    "\n",
    "# Visualize the results\n",
    "x_values = list(range(1, die.num_sides + 1))\n",
    "data = [Bar(x = x_values, y = frequencies)]\n",
    "\n",
    "x_axis_config = {\"title\": \"Result\"}\n",
    "y_axis_config = {\"title\": \"Frequency of Result\"}\n",
    "my_layout = Layout(title=\"Results of rolling one D6 1000 times\", xaxis=x_axis_config, yaxis=y_axis_config)\n",
    "offline.plot({\"data\": data, \"layout\": my_layout}, filename=\"d6.html\")"
   ]
  },
  {
   "cell_type": "markdown",
   "metadata": {},
   "source": [
    "Rolling two dice results in larger numbers and a different distribution of \n",
    "results. Let’s modify our code to create two D6 dice to simulate the way we \n",
    "roll a pair of dice. Each time we roll the pair, we’ll add the two numbers \n",
    "(one from each die) and store the sum in results"
   ]
  },
  {
   "cell_type": "code",
   "execution_count": 12,
   "metadata": {},
   "outputs": [
    {
     "data": {
      "text/plain": [
       "'d6_d6.html'"
      ]
     },
     "execution_count": 12,
     "metadata": {},
     "output_type": "execute_result"
    }
   ],
   "source": [
    "from plotly.graph_objects import Bar, Layout\n",
    "from plotly import offline\n",
    "from random import randint\n",
    "\n",
    "class Die:\n",
    "    '''A class representing a single die'''\n",
    "\n",
    "    def __init__(self, num_sides = 6):\n",
    "        self.num_sides = num_sides\n",
    "\n",
    "    def roll(self):\n",
    "        '''Return a random value between 1 and number of sides'''\n",
    "        return randint(1, self.num_sides)\n",
    "\n",
    "die_1 = Die()\n",
    "die_2 = Die()\n",
    "\n",
    "results = []\n",
    "for roll_num in range(1000):\n",
    "    results.append(die_1.roll() + die_2.roll())\n",
    "\n",
    "frequencies = []\n",
    "max_result = die_1.num_sides + die_2.num_sides\n",
    "for value in range(2, max_result + 1):\n",
    "    frequencies.append(results.count(value))\n",
    "\n",
    "# Visualize the result\n",
    "x_values = list(range(2, max_result + 1))\n",
    "data = [Bar(x = x_values, y = frequencies)]\n",
    "\n",
    "x_axis_config = {\"title\": \"Result\", \"dtick\": 1}\n",
    "y_axis_config = {\"title\": \"Frequency of Result\"}\n",
    "my_layout = Layout(title = \"Results of rolling two D6 dice 1000 times\", xaxis = x_axis_config, yaxis = y_axis_config)\n",
    "offline.plot({\"data\": data, \"layout\": my_layout}, filename = \"d6_d6.html\")"
   ]
  },
  {
   "cell_type": "markdown",
   "metadata": {},
   "source": [
    "Let’s create a six-sided die and a ten-sided die, and see what happens when we roll them 50,000 times"
   ]
  },
  {
   "cell_type": "code",
   "execution_count": 13,
   "metadata": {},
   "outputs": [
    {
     "data": {
      "text/plain": [
       "'d6_d10.html'"
      ]
     },
     "execution_count": 13,
     "metadata": {},
     "output_type": "execute_result"
    }
   ],
   "source": [
    "from plotly.graph_objects import Bar, Layout\n",
    "from plotly import offline\n",
    "from random import randint\n",
    "\n",
    "class Die:\n",
    "    '''A class representing a single die'''\n",
    "\n",
    "    def __init__(self, num_sides = 6):\n",
    "        self.num_sides = num_sides\n",
    "\n",
    "    def roll(self):\n",
    "        '''Return a random value between 1 and number of sides'''\n",
    "        return randint(1, self.num_sides)\n",
    "\n",
    "# Create a D6 and a D10\n",
    "die_1 = Die()\n",
    "die_2 = Die(10)\n",
    "\n",
    "results = []\n",
    "for roll_num in range(50000):\n",
    "    results.append(die_1.roll() + die_2.roll())\n",
    "\n",
    "frequencies = []\n",
    "max_result = die_1.num_sides + die_2.num_sides\n",
    "for value in range(2, max_result + 1):\n",
    "    frequencies.append(results.count(value))\n",
    "\n",
    "# Visualize the result\n",
    "x_values = list(range(2, max_result + 1))\n",
    "data = [Bar(x = x_values, y = frequencies)]\n",
    "\n",
    "x_axis_config = {\"title\": \"Result\", \"dtick\": 1}\n",
    "y_axis_config = {\"title\": \"Frequency of Result\"}\n",
    "my_layout = Layout(title = \"Results of rolling a D6 and a D10 50000 times\", xaxis = x_axis_config, yaxis = y_axis_config)\n",
    "offline.plot({\"data\": data, \"layout\": my_layout}, filename = \"d6_d10.html\")"
   ]
  },
  {
   "cell_type": "markdown",
   "metadata": {},
   "source": [
    "15-6. Two D8s: Create a simulation showing what happens when you roll two eight-sided dice 1000 times. Try to picture what you think the visualization will look like before you run the simulation; then see if your intuition was correct. \n",
    "Gradually increase the number of rolls until you start to see the limits of your system’s capabilities."
   ]
  },
  {
   "cell_type": "code",
   "execution_count": 9,
   "metadata": {},
   "outputs": [
    {
     "data": {
      "text/plain": [
       "'d8_d8.html'"
      ]
     },
     "execution_count": 9,
     "metadata": {},
     "output_type": "execute_result"
    }
   ],
   "source": [
    "from plotly.graph_objects import Bar, Layout\n",
    "from plotly import offline\n",
    "from random import randint\n",
    "\n",
    "class Die:\n",
    "    '''A class representing a single die'''\n",
    "\n",
    "    def __init__(self, num_sides = 6):\n",
    "        self.num_sides = num_sides\n",
    "\n",
    "    def roll(self):\n",
    "        '''Return a random value between 1 and number of sides'''\n",
    "        return randint(1, self.num_sides)\n",
    "\n",
    "# Create two eight sided dice\n",
    "die_1 = Die(8)\n",
    "die_2 = Die(8)\n",
    "\n",
    "results = []\n",
    "for roll_num in range(5000):\n",
    "    results.append(die_1.roll() + die_2.roll())\n",
    "\n",
    "frequencies = []\n",
    "max_result = die_1.num_sides + die_2.num_sides\n",
    "for value in range(2, max_result + 1):\n",
    "    frequencies.append(results.count(value))\n",
    "\n",
    "# Visualize the result\n",
    "x_values = list(range(2, max_result + 1))\n",
    "data = [Bar(x = x_values, y = frequencies)]\n",
    "\n",
    "x_axis_config = {\"title\": \"Result\", \"dtick\": 1}\n",
    "y_axis_config = {\"title\": \"Frequecies of result\"}\n",
    "my_layout = Layout(title=\"Results of rolling two D8 dice\", xaxis = x_axis_config, yaxis = y_axis_config)\n",
    "offline.plot({\"data\": data, \"layout\": my_layout}, filename = \"d8_d8.html\")"
   ]
  },
  {
   "cell_type": "markdown",
   "metadata": {},
   "source": [
    "15-7. Three Dice: When you roll three D6 dice, the smallest number you can roll is 3 and the largest number is 18. Create a visualization that shows what happens when you roll three D6 dice."
   ]
  },
  {
   "cell_type": "code",
   "execution_count": 10,
   "metadata": {},
   "outputs": [
    {
     "data": {
      "text/plain": [
       "'d6_d6_d6.html'"
      ]
     },
     "execution_count": 10,
     "metadata": {},
     "output_type": "execute_result"
    }
   ],
   "source": [
    "from plotly.graph_objects import Bar, Layout\n",
    "from plotly import offline\n",
    "from random import randint\n",
    "\n",
    "class Die:\n",
    "    '''A class representing a single die'''\n",
    "\n",
    "    def __init__(self, num_sides = 6):\n",
    "        self.num_sides = num_sides\n",
    "\n",
    "    def roll(self):\n",
    "        '''Return a random value between 1 and number of sides'''\n",
    "        return randint(1, self.num_sides)\n",
    "\n",
    "# Create three six sided dice\n",
    "die_1 = Die()\n",
    "die_2 = Die()\n",
    "die_3 = Die()\n",
    "\n",
    "results = []\n",
    "for roll_num in range(5000):\n",
    "    results.append(die_1.roll() + die_2.roll() + die_3.roll())\n",
    "\n",
    "frequencies = []\n",
    "max_result = die_1.num_sides + die_2.num_sides +  die_3.num_sides\n",
    "for value in range(3, max_result + 1):\n",
    "    frequencies.append(results.count(value))\n",
    "\n",
    "# Visualize the result\n",
    "x_values = list(range(3, max_result + 1))\n",
    "data = [Bar(x = x_values, y = frequencies)]\n",
    "\n",
    "x_axis_config = {\"title\": \"Result\", \"dtick\": 1}\n",
    "y_axis_config = {\"title\": \"Frequecies of result\"}\n",
    "my_layout = Layout(title=\"Results of rolling three D6 dice\", xaxis = x_axis_config, yaxis = y_axis_config)\n",
    "offline.plot({\"data\": data, \"layout\": my_layout}, filename = \"d6_d6_d6.html\")\n"
   ]
  },
  {
   "cell_type": "markdown",
   "metadata": {},
   "source": [
    "15-8. Multiplication: When you roll two dice, you usually add the two numbers together to get the result. Create a visualization that shows what happens if you multiply these numbers instead"
   ]
  },
  {
   "cell_type": "code",
   "execution_count": 14,
   "metadata": {},
   "outputs": [
    {
     "data": {
      "text/plain": [
       "'d6_d6_Mltp.html'"
      ]
     },
     "execution_count": 14,
     "metadata": {},
     "output_type": "execute_result"
    }
   ],
   "source": [
    "from plotly.graph_objects import Bar, Layout\n",
    "from plotly import offline\n",
    "from random import randint\n",
    "\n",
    "class Die:\n",
    "    '''A class representing a single die'''\n",
    "\n",
    "    def __init__(self, num_sides = 6):\n",
    "        self.num_sides = num_sides\n",
    "\n",
    "    def roll(self):\n",
    "        '''Return a random value between 1 and number of sides'''\n",
    "        return randint(1, self.num_sides)\n",
    "\n",
    "die_1 = Die()\n",
    "die_2 = Die()\n",
    "\n",
    "results = []\n",
    "for roll_num in range(1000):\n",
    "    results.append(die_1.roll() * die_2.roll())\n",
    "\n",
    "frequencies = []\n",
    "max_result = die_1.num_sides + die_2.num_sides\n",
    "for value in range(2, max_result + 1):\n",
    "    frequencies.append(results.count(value))\n",
    "\n",
    "# Visualize the result\n",
    "x_values = list(range(2, max_result + 1))\n",
    "data = [Bar(x = x_values, y = frequencies)]\n",
    "\n",
    "x_axis_config = {\"title\": \"Result\", \"dtick\": 1}\n",
    "y_axis_config = {\"title\": \"Frequency of Result\"}\n",
    "my_layout = Layout(title = \"Results of rolling two D6 dice 1000 times\", xaxis = x_axis_config, yaxis = y_axis_config)\n",
    "offline.plot({\"data\": data, \"layout\": my_layout}, filename = \"d6_d6_Mltp.html\")"
   ]
  },
  {
   "cell_type": "markdown",
   "metadata": {},
   "source": [
    "15-9. Die Comprehensions: For clarity, the listings in this section use the long form of for loops. If you’re comfortable using list comprehensions, try writing a comprehension for one or both of the loops in each of these programs."
   ]
  },
  {
   "cell_type": "code",
   "execution_count": 17,
   "metadata": {},
   "outputs": [
    {
     "data": {
      "text/plain": [
       "'d6_d6_ListComp.html'"
      ]
     },
     "execution_count": 17,
     "metadata": {},
     "output_type": "execute_result"
    }
   ],
   "source": [
    "from plotly.graph_objects import Bar, Layout\n",
    "from plotly import offline\n",
    "from random import randint\n",
    "\n",
    "class Die:\n",
    "    '''A class representing a single die'''\n",
    "\n",
    "    def __init__(self, num_sides = 6):\n",
    "        self.num_sides = num_sides\n",
    "\n",
    "    def roll(self):\n",
    "        '''Return a random value between 1 and number of sides'''\n",
    "        return randint(1, self.num_sides)\n",
    "\n",
    "die_1 = Die()\n",
    "die_2 = Die()\n",
    "\n",
    "results = [die_1.roll() + die_2.roll() for x in range(1000)]\n",
    "\n",
    "max_result = die_1.num_sides + die_2.num_sides\n",
    "frequencies = [results.count(value) for value in range(2, max_result + 1)]\n",
    "\n",
    "# Visualize the result\n",
    "x_values = list(range(2, max_result + 1))\n",
    "data = [Bar(x = x_values, y = frequencies)]\n",
    "\n",
    "x_axis_config = {\"title\": \"Result\", \"dtick\": 1}\n",
    "y_axis_config = {\"title\": \"Frequency of Result\"}\n",
    "my_layout = Layout(title = \"Results of rolling two D6 dice 1000 times\", xaxis = x_axis_config, yaxis = y_axis_config)\n",
    "offline.plot({\"data\": data, \"layout\": my_layout}, filename = \"d6_d6_ListComp.html\")"
   ]
  }
 ],
 "metadata": {
  "interpreter": {
   "hash": "c557f328b9f61558648e097299f93c2ff4e25878ecc5e646b6a13483e460f0cb"
  },
  "kernelspec": {
   "display_name": "Python 3.8.8 ('base')",
   "language": "python",
   "name": "python3"
  },
  "language_info": {
   "codemirror_mode": {
    "name": "ipython",
    "version": 3
   },
   "file_extension": ".py",
   "mimetype": "text/x-python",
   "name": "python",
   "nbconvert_exporter": "python",
   "pygments_lexer": "ipython3",
   "version": "3.8.8"
  },
  "orig_nbformat": 4
 },
 "nbformat": 4,
 "nbformat_minor": 2
}
